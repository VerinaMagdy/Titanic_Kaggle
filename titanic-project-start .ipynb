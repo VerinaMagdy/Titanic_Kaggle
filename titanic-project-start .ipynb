{
 "cells": [
  {
   "cell_type": "code",
   "execution_count": 1,
   "id": "split-defense",
   "metadata": {
    "_cell_guid": "b1076dfc-b9ad-4769-8c92-a6c4dae69d19",
    "_uuid": "8f2839f25d086af736a60e9eeb907d3b93b6e0e5",
    "execution": {
     "iopub.execute_input": "2021-06-12T21:00:11.713924Z",
     "iopub.status.busy": "2021-06-12T21:00:11.713332Z",
     "iopub.status.idle": "2021-06-12T21:00:12.702052Z",
     "shell.execute_reply": "2021-06-12T21:00:12.702469Z",
     "shell.execute_reply.started": "2021-06-12T20:55:57.906711Z"
    },
    "papermill": {
     "duration": 1.010026,
     "end_time": "2021-06-12T21:00:12.702806",
     "exception": false,
     "start_time": "2021-06-12T21:00:11.692780",
     "status": "completed"
    },
    "tags": []
   },
   "outputs": [
    {
     "name": "stdout",
     "output_type": "stream",
     "text": [
      "/kaggle/input/titanic/train.csv\n",
      "/kaggle/input/titanic/test.csv\n",
      "/kaggle/input/titanic/gender_submission.csv\n"
     ]
    }
   ],
   "source": [
    "import numpy as np # linear algebra\n",
    "import pandas as pd # data processing, CSV file I/O (e.g. pd.read_csv)\n",
    "import os\n",
    "from sklearn.ensemble import RandomForestClassifier\n",
    "for dirname, _, filenames in os.walk('/kaggle/input'):\n",
    "    for filename in filenames:\n",
    "        print(os.path.join(dirname, filename))"
   ]
  },
  {
   "cell_type": "markdown",
   "id": "marine-winning",
   "metadata": {
    "papermill": {
     "duration": 0.011478,
     "end_time": "2021-06-12T21:00:12.726449",
     "exception": false,
     "start_time": "2021-06-12T21:00:12.714971",
     "status": "completed"
    },
    "tags": []
   },
   "source": [
    "Here we can see where we store the competition data,to load the files into my notebook."
   ]
  },
  {
   "cell_type": "code",
   "execution_count": 2,
   "id": "fantastic-information",
   "metadata": {
    "execution": {
     "iopub.execute_input": "2021-06-12T21:00:12.754715Z",
     "iopub.status.busy": "2021-06-12T21:00:12.754068Z",
     "iopub.status.idle": "2021-06-12T21:00:12.790708Z",
     "shell.execute_reply": "2021-06-12T21:00:12.791130Z",
     "shell.execute_reply.started": "2021-06-12T20:55:57.949181Z"
    },
    "papermill": {
     "duration": 0.052947,
     "end_time": "2021-06-12T21:00:12.791279",
     "exception": false,
     "start_time": "2021-06-12T21:00:12.738332",
     "status": "completed"
    },
    "tags": []
   },
   "outputs": [
    {
     "data": {
      "text/html": [
       "<div>\n",
       "<style scoped>\n",
       "    .dataframe tbody tr th:only-of-type {\n",
       "        vertical-align: middle;\n",
       "    }\n",
       "\n",
       "    .dataframe tbody tr th {\n",
       "        vertical-align: top;\n",
       "    }\n",
       "\n",
       "    .dataframe thead th {\n",
       "        text-align: right;\n",
       "    }\n",
       "</style>\n",
       "<table border=\"1\" class=\"dataframe\">\n",
       "  <thead>\n",
       "    <tr style=\"text-align: right;\">\n",
       "      <th></th>\n",
       "      <th>PassengerId</th>\n",
       "      <th>Survived</th>\n",
       "      <th>Pclass</th>\n",
       "      <th>Name</th>\n",
       "      <th>Sex</th>\n",
       "      <th>Age</th>\n",
       "      <th>SibSp</th>\n",
       "      <th>Parch</th>\n",
       "      <th>Ticket</th>\n",
       "      <th>Fare</th>\n",
       "      <th>Cabin</th>\n",
       "      <th>Embarked</th>\n",
       "    </tr>\n",
       "  </thead>\n",
       "  <tbody>\n",
       "    <tr>\n",
       "      <th>0</th>\n",
       "      <td>1</td>\n",
       "      <td>0</td>\n",
       "      <td>3</td>\n",
       "      <td>Braund, Mr. Owen Harris</td>\n",
       "      <td>male</td>\n",
       "      <td>22.0</td>\n",
       "      <td>1</td>\n",
       "      <td>0</td>\n",
       "      <td>A/5 21171</td>\n",
       "      <td>7.2500</td>\n",
       "      <td>NaN</td>\n",
       "      <td>S</td>\n",
       "    </tr>\n",
       "    <tr>\n",
       "      <th>1</th>\n",
       "      <td>2</td>\n",
       "      <td>1</td>\n",
       "      <td>1</td>\n",
       "      <td>Cumings, Mrs. John Bradley (Florence Briggs Th...</td>\n",
       "      <td>female</td>\n",
       "      <td>38.0</td>\n",
       "      <td>1</td>\n",
       "      <td>0</td>\n",
       "      <td>PC 17599</td>\n",
       "      <td>71.2833</td>\n",
       "      <td>C85</td>\n",
       "      <td>C</td>\n",
       "    </tr>\n",
       "    <tr>\n",
       "      <th>2</th>\n",
       "      <td>3</td>\n",
       "      <td>1</td>\n",
       "      <td>3</td>\n",
       "      <td>Heikkinen, Miss. Laina</td>\n",
       "      <td>female</td>\n",
       "      <td>26.0</td>\n",
       "      <td>0</td>\n",
       "      <td>0</td>\n",
       "      <td>STON/O2. 3101282</td>\n",
       "      <td>7.9250</td>\n",
       "      <td>NaN</td>\n",
       "      <td>S</td>\n",
       "    </tr>\n",
       "    <tr>\n",
       "      <th>3</th>\n",
       "      <td>4</td>\n",
       "      <td>1</td>\n",
       "      <td>1</td>\n",
       "      <td>Futrelle, Mrs. Jacques Heath (Lily May Peel)</td>\n",
       "      <td>female</td>\n",
       "      <td>35.0</td>\n",
       "      <td>1</td>\n",
       "      <td>0</td>\n",
       "      <td>113803</td>\n",
       "      <td>53.1000</td>\n",
       "      <td>C123</td>\n",
       "      <td>S</td>\n",
       "    </tr>\n",
       "    <tr>\n",
       "      <th>4</th>\n",
       "      <td>5</td>\n",
       "      <td>0</td>\n",
       "      <td>3</td>\n",
       "      <td>Allen, Mr. William Henry</td>\n",
       "      <td>male</td>\n",
       "      <td>35.0</td>\n",
       "      <td>0</td>\n",
       "      <td>0</td>\n",
       "      <td>373450</td>\n",
       "      <td>8.0500</td>\n",
       "      <td>NaN</td>\n",
       "      <td>S</td>\n",
       "    </tr>\n",
       "  </tbody>\n",
       "</table>\n",
       "</div>"
      ],
      "text/plain": [
       "   PassengerId  Survived  Pclass  \\\n",
       "0            1         0       3   \n",
       "1            2         1       1   \n",
       "2            3         1       3   \n",
       "3            4         1       1   \n",
       "4            5         0       3   \n",
       "\n",
       "                                                Name     Sex   Age  SibSp  \\\n",
       "0                            Braund, Mr. Owen Harris    male  22.0      1   \n",
       "1  Cumings, Mrs. John Bradley (Florence Briggs Th...  female  38.0      1   \n",
       "2                             Heikkinen, Miss. Laina  female  26.0      0   \n",
       "3       Futrelle, Mrs. Jacques Heath (Lily May Peel)  female  35.0      1   \n",
       "4                           Allen, Mr. William Henry    male  35.0      0   \n",
       "\n",
       "   Parch            Ticket     Fare Cabin Embarked  \n",
       "0      0         A/5 21171   7.2500   NaN        S  \n",
       "1      0          PC 17599  71.2833   C85        C  \n",
       "2      0  STON/O2. 3101282   7.9250   NaN        S  \n",
       "3      0            113803  53.1000  C123        S  \n",
       "4      0            373450   8.0500   NaN        S  "
      ]
     },
     "execution_count": 2,
     "metadata": {},
     "output_type": "execute_result"
    }
   ],
   "source": [
    "train_data = pd.read_csv(\"/kaggle/input/titanic/train.csv\")\n",
    "train_data.head()"
   ]
  },
  {
   "cell_type": "markdown",
   "id": "veterinary-charity",
   "metadata": {
    "papermill": {
     "duration": 0.011653,
     "end_time": "2021-06-12T21:00:12.814948",
     "exception": false,
     "start_time": "2021-06-12T21:00:12.803295",
     "status": "completed"
    },
    "tags": []
   },
   "source": [
    "We start by reading the data from train.csv and printing the first five rows using the .head method"
   ]
  },
  {
   "cell_type": "code",
   "execution_count": 3,
   "id": "voluntary-introduction",
   "metadata": {
    "execution": {
     "iopub.execute_input": "2021-06-12T21:00:12.842123Z",
     "iopub.status.busy": "2021-06-12T21:00:12.841279Z",
     "iopub.status.idle": "2021-06-12T21:00:12.862000Z",
     "shell.execute_reply": "2021-06-12T21:00:12.862441Z",
     "shell.execute_reply.started": "2021-06-12T20:55:58.014678Z"
    },
    "papermill": {
     "duration": 0.035666,
     "end_time": "2021-06-12T21:00:12.862591",
     "exception": false,
     "start_time": "2021-06-12T21:00:12.826925",
     "status": "completed"
    },
    "tags": []
   },
   "outputs": [
    {
     "data": {
      "text/html": [
       "<div>\n",
       "<style scoped>\n",
       "    .dataframe tbody tr th:only-of-type {\n",
       "        vertical-align: middle;\n",
       "    }\n",
       "\n",
       "    .dataframe tbody tr th {\n",
       "        vertical-align: top;\n",
       "    }\n",
       "\n",
       "    .dataframe thead th {\n",
       "        text-align: right;\n",
       "    }\n",
       "</style>\n",
       "<table border=\"1\" class=\"dataframe\">\n",
       "  <thead>\n",
       "    <tr style=\"text-align: right;\">\n",
       "      <th></th>\n",
       "      <th>PassengerId</th>\n",
       "      <th>Pclass</th>\n",
       "      <th>Name</th>\n",
       "      <th>Sex</th>\n",
       "      <th>Age</th>\n",
       "      <th>SibSp</th>\n",
       "      <th>Parch</th>\n",
       "      <th>Ticket</th>\n",
       "      <th>Fare</th>\n",
       "      <th>Cabin</th>\n",
       "      <th>Embarked</th>\n",
       "    </tr>\n",
       "  </thead>\n",
       "  <tbody>\n",
       "    <tr>\n",
       "      <th>0</th>\n",
       "      <td>892</td>\n",
       "      <td>3</td>\n",
       "      <td>Kelly, Mr. James</td>\n",
       "      <td>male</td>\n",
       "      <td>34.5</td>\n",
       "      <td>0</td>\n",
       "      <td>0</td>\n",
       "      <td>330911</td>\n",
       "      <td>7.8292</td>\n",
       "      <td>NaN</td>\n",
       "      <td>Q</td>\n",
       "    </tr>\n",
       "    <tr>\n",
       "      <th>1</th>\n",
       "      <td>893</td>\n",
       "      <td>3</td>\n",
       "      <td>Wilkes, Mrs. James (Ellen Needs)</td>\n",
       "      <td>female</td>\n",
       "      <td>47.0</td>\n",
       "      <td>1</td>\n",
       "      <td>0</td>\n",
       "      <td>363272</td>\n",
       "      <td>7.0000</td>\n",
       "      <td>NaN</td>\n",
       "      <td>S</td>\n",
       "    </tr>\n",
       "    <tr>\n",
       "      <th>2</th>\n",
       "      <td>894</td>\n",
       "      <td>2</td>\n",
       "      <td>Myles, Mr. Thomas Francis</td>\n",
       "      <td>male</td>\n",
       "      <td>62.0</td>\n",
       "      <td>0</td>\n",
       "      <td>0</td>\n",
       "      <td>240276</td>\n",
       "      <td>9.6875</td>\n",
       "      <td>NaN</td>\n",
       "      <td>Q</td>\n",
       "    </tr>\n",
       "    <tr>\n",
       "      <th>3</th>\n",
       "      <td>895</td>\n",
       "      <td>3</td>\n",
       "      <td>Wirz, Mr. Albert</td>\n",
       "      <td>male</td>\n",
       "      <td>27.0</td>\n",
       "      <td>0</td>\n",
       "      <td>0</td>\n",
       "      <td>315154</td>\n",
       "      <td>8.6625</td>\n",
       "      <td>NaN</td>\n",
       "      <td>S</td>\n",
       "    </tr>\n",
       "    <tr>\n",
       "      <th>4</th>\n",
       "      <td>896</td>\n",
       "      <td>3</td>\n",
       "      <td>Hirvonen, Mrs. Alexander (Helga E Lindqvist)</td>\n",
       "      <td>female</td>\n",
       "      <td>22.0</td>\n",
       "      <td>1</td>\n",
       "      <td>1</td>\n",
       "      <td>3101298</td>\n",
       "      <td>12.2875</td>\n",
       "      <td>NaN</td>\n",
       "      <td>S</td>\n",
       "    </tr>\n",
       "  </tbody>\n",
       "</table>\n",
       "</div>"
      ],
      "text/plain": [
       "   PassengerId  Pclass                                          Name     Sex  \\\n",
       "0          892       3                              Kelly, Mr. James    male   \n",
       "1          893       3              Wilkes, Mrs. James (Ellen Needs)  female   \n",
       "2          894       2                     Myles, Mr. Thomas Francis    male   \n",
       "3          895       3                              Wirz, Mr. Albert    male   \n",
       "4          896       3  Hirvonen, Mrs. Alexander (Helga E Lindqvist)  female   \n",
       "\n",
       "    Age  SibSp  Parch   Ticket     Fare Cabin Embarked  \n",
       "0  34.5      0      0   330911   7.8292   NaN        Q  \n",
       "1  47.0      1      0   363272   7.0000   NaN        S  \n",
       "2  62.0      0      0   240276   9.6875   NaN        Q  \n",
       "3  27.0      0      0   315154   8.6625   NaN        S  \n",
       "4  22.0      1      1  3101298  12.2875   NaN        S  "
      ]
     },
     "execution_count": 3,
     "metadata": {},
     "output_type": "execute_result"
    }
   ],
   "source": [
    "test_data = pd.read_csv(\"/kaggle/input/titanic/test.csv\")\n",
    "test_data.head()"
   ]
  },
  {
   "cell_type": "markdown",
   "id": "korean-public",
   "metadata": {
    "papermill": {
     "duration": 0.012407,
     "end_time": "2021-06-12T21:00:12.887363",
     "exception": false,
     "start_time": "2021-06-12T21:00:12.874956",
     "status": "completed"
    },
    "tags": []
   },
   "source": [
    "We also read the test.csv which we are going to test it"
   ]
  },
  {
   "cell_type": "code",
   "execution_count": 4,
   "id": "included-contents",
   "metadata": {
    "execution": {
     "iopub.execute_input": "2021-06-12T21:00:12.915388Z",
     "iopub.status.busy": "2021-06-12T21:00:12.914552Z",
     "iopub.status.idle": "2021-06-12T21:00:12.920712Z",
     "shell.execute_reply": "2021-06-12T21:00:12.920281Z",
     "shell.execute_reply.started": "2021-06-12T20:55:58.041998Z"
    },
    "papermill": {
     "duration": 0.020968,
     "end_time": "2021-06-12T21:00:12.920838",
     "exception": false,
     "start_time": "2021-06-12T21:00:12.899870",
     "status": "completed"
    },
    "tags": []
   },
   "outputs": [
    {
     "data": {
      "text/plain": [
       "Index(['PassengerId', 'Survived', 'Pclass', 'Name', 'Sex', 'Age', 'SibSp',\n",
       "       'Parch', 'Ticket', 'Fare', 'Cabin', 'Embarked'],\n",
       "      dtype='object')"
      ]
     },
     "execution_count": 4,
     "metadata": {},
     "output_type": "execute_result"
    }
   ],
   "source": [
    "train_data.columns"
   ]
  },
  {
   "cell_type": "markdown",
   "id": "shared-heater",
   "metadata": {
    "papermill": {
     "duration": 0.012346,
     "end_time": "2021-06-12T21:00:12.945710",
     "exception": false,
     "start_time": "2021-06-12T21:00:12.933364",
     "status": "completed"
    },
    "tags": []
   },
   "source": [
    ".columns will print for us the columns we have in the train.csv "
   ]
  },
  {
   "cell_type": "code",
   "execution_count": 5,
   "id": "thirty-congo",
   "metadata": {
    "execution": {
     "iopub.execute_input": "2021-06-12T21:00:12.979234Z",
     "iopub.status.busy": "2021-06-12T21:00:12.978387Z",
     "iopub.status.idle": "2021-06-12T21:00:12.980824Z",
     "shell.execute_reply": "2021-06-12T21:00:12.981192Z",
     "shell.execute_reply.started": "2021-06-12T20:55:58.053962Z"
    },
    "papermill": {
     "duration": 0.023073,
     "end_time": "2021-06-12T21:00:12.981352",
     "exception": false,
     "start_time": "2021-06-12T21:00:12.958279",
     "status": "completed"
    },
    "tags": []
   },
   "outputs": [],
   "source": [
    "tit_num=train_data[[ 'Age', 'SibSp','Parch', 'Fare']]\n",
    "tit_cat=train_data[['PassengerId', 'Survived', 'Pclass', 'Name', 'Sex', 'Ticket','Cabin', 'Embarked']]"
   ]
  },
  {
   "cell_type": "markdown",
   "id": "matched-disco",
   "metadata": {
    "papermill": {
     "duration": 0.01242,
     "end_time": "2021-06-12T21:00:13.006659",
     "exception": false,
     "start_time": "2021-06-12T21:00:12.994239",
     "status": "completed"
    },
    "tags": []
   },
   "source": [
    "I did this step to divide the columns where there are numerical and categorial."
   ]
  },
  {
   "cell_type": "code",
   "execution_count": 6,
   "id": "dated-operator",
   "metadata": {
    "execution": {
     "iopub.execute_input": "2021-06-12T21:00:13.035710Z",
     "iopub.status.busy": "2021-06-12T21:00:13.034876Z",
     "iopub.status.idle": "2021-06-12T21:00:13.050597Z",
     "shell.execute_reply": "2021-06-12T21:00:13.051032Z",
     "shell.execute_reply.started": "2021-06-12T20:55:58.075301Z"
    },
    "papermill": {
     "duration": 0.031537,
     "end_time": "2021-06-12T21:00:13.051197",
     "exception": false,
     "start_time": "2021-06-12T21:00:13.019660",
     "status": "completed"
    },
    "tags": []
   },
   "outputs": [
    {
     "name": "stdout",
     "output_type": "stream",
     "text": [
      "     Survived  Pclass     Sex   Age  SibSp  Parch     Fare Embarked\n",
      "0           0       3    male  22.0      1      0   7.2500        S\n",
      "1           1       1  female  38.0      1      0  71.2833        C\n",
      "2           1       3  female  26.0      0      0   7.9250        S\n",
      "3           1       1  female  35.0      1      0  53.1000        S\n",
      "4           0       3    male  35.0      0      0   8.0500        S\n",
      "..        ...     ...     ...   ...    ...    ...      ...      ...\n",
      "886         0       2    male  27.0      0      0  13.0000        S\n",
      "887         1       1  female  19.0      0      0  30.0000        S\n",
      "888         0       3  female   NaN      1      2  23.4500        S\n",
      "889         1       1    male  26.0      0      0  30.0000        C\n",
      "890         0       3    male  32.0      0      0   7.7500        Q\n",
      "\n",
      "[891 rows x 8 columns]\n"
     ]
    }
   ],
   "source": [
    "from sklearn.model_selection import train_test_split\n",
    "\n",
    "my_features= [\"Pclass\",\"Sex\",\"Age\",\"SibSp\", \"Parch\",\"Embarked\",\"Fare\"]\n",
    "train_data.drop(['PassengerId','Ticket','Cabin','Name'], axis=1,inplace=True)\n",
    "X=train_data[my_features]\n",
    "Y = train_data[\"Survived\"]\n",
    "test_data.drop(['Ticket','Cabin','Name'], axis=1,inplace=True)\n",
    "Z=test_data[my_features]\n",
    "\n",
    "print(train_data)"
   ]
  },
  {
   "cell_type": "markdown",
   "id": "impressed-tournament",
   "metadata": {
    "papermill": {
     "duration": 0.012599,
     "end_time": "2021-06-12T21:00:13.076680",
     "exception": false,
     "start_time": "2021-06-12T21:00:13.064081",
     "status": "completed"
    },
    "tags": []
   },
   "source": [
    "Here we are in the training phase first step to put the x and y values. my_features are the x values which are the data i want to keep and work with while the y is the output that i want to discover.\n",
    "There are values that i will drop that won't help in my decision at the end or won't make a difference. At each step i will do every thing in the train_data and test_data.\n",
    "Conclusion will be a table with the determined features and without the dropped ones."
   ]
  },
  {
   "cell_type": "code",
   "execution_count": 7,
   "id": "palestinian-holiday",
   "metadata": {
    "execution": {
     "iopub.execute_input": "2021-06-12T21:00:13.105719Z",
     "iopub.status.busy": "2021-06-12T21:00:13.104896Z",
     "iopub.status.idle": "2021-06-12T21:00:13.115822Z",
     "shell.execute_reply": "2021-06-12T21:00:13.116235Z",
     "shell.execute_reply.started": "2021-06-12T20:55:58.117352Z"
    },
    "papermill": {
     "duration": 0.026802,
     "end_time": "2021-06-12T21:00:13.116390",
     "exception": false,
     "start_time": "2021-06-12T21:00:13.089588",
     "status": "completed"
    },
    "tags": []
   },
   "outputs": [
    {
     "name": "stdout",
     "output_type": "stream",
     "text": [
      "0      22.000000\n",
      "1      38.000000\n",
      "2      26.000000\n",
      "3      35.000000\n",
      "4      35.000000\n",
      "         ...    \n",
      "886    27.000000\n",
      "887    19.000000\n",
      "888    29.699118\n",
      "889    26.000000\n",
      "890    32.000000\n",
      "Name: Age, Length: 891, dtype: float64\n",
      "The mean is=  29.69911764705882\n",
      "0      34.50000\n",
      "1      47.00000\n",
      "2      62.00000\n",
      "3      27.00000\n",
      "4      22.00000\n",
      "         ...   \n",
      "413    30.27259\n",
      "414    39.00000\n",
      "415    38.50000\n",
      "416    30.27259\n",
      "417    30.27259\n",
      "Name: Age, Length: 418, dtype: float64\n",
      "The mean is=  30.272590361445783\n"
     ]
    }
   ],
   "source": [
    "train_data['Age'].fillna(train_data['Age'].mean(), inplace = True)\n",
    "print(train_data['Age'])\n",
    "print(\"The mean is= \",train_data['Age'].mean())\n",
    "test_data['Age'].fillna(test_data['Age'].mean(), inplace = True)\n",
    "print(test_data['Age'])\n",
    "print(\"The mean is= \",test_data['Age'].mean())"
   ]
  },
  {
   "cell_type": "markdown",
   "id": "shared-signal",
   "metadata": {
    "papermill": {
     "duration": 0.013356,
     "end_time": "2021-06-12T21:00:13.143047",
     "exception": false,
     "start_time": "2021-06-12T21:00:13.129691",
     "status": "completed"
    },
    "tags": []
   },
   "source": [
    "As we can see in the tables at the output of the previous cell that their are NAN values in the age column which won't be right to be left like that so i used the method fillna that fills all the NAN values by the mean value. \n",
    "Conclusion: All NAN values will be replaced with the mean value(which is calculated) and the tables will be changed in the train and test."
   ]
  },
  {
   "cell_type": "code",
   "execution_count": 8,
   "id": "bibliographic-colon",
   "metadata": {
    "execution": {
     "iopub.execute_input": "2021-06-12T21:00:13.175227Z",
     "iopub.status.busy": "2021-06-12T21:00:13.174345Z",
     "iopub.status.idle": "2021-06-12T21:00:13.181569Z",
     "shell.execute_reply": "2021-06-12T21:00:13.182099Z",
     "shell.execute_reply.started": "2021-06-12T20:55:58.134808Z"
    },
    "papermill": {
     "duration": 0.026058,
     "end_time": "2021-06-12T21:00:13.182271",
     "exception": false,
     "start_time": "2021-06-12T21:00:13.156213",
     "status": "completed"
    },
    "tags": []
   },
   "outputs": [
    {
     "name": "stdout",
     "output_type": "stream",
     "text": [
      "0       7.2500\n",
      "1      71.2833\n",
      "2       7.9250\n",
      "3      53.1000\n",
      "4       8.0500\n",
      "        ...   \n",
      "886    13.0000\n",
      "887    30.0000\n",
      "888    23.4500\n",
      "889    30.0000\n",
      "890     7.7500\n",
      "Name: Fare, Length: 891, dtype: float64\n",
      "0        7.8292\n",
      "1        7.0000\n",
      "2        9.6875\n",
      "3        8.6625\n",
      "4       12.2875\n",
      "         ...   \n",
      "413      8.0500\n",
      "414    108.9000\n",
      "415      7.2500\n",
      "416      8.0500\n",
      "417     22.3583\n",
      "Name: Fare, Length: 418, dtype: float64\n"
     ]
    }
   ],
   "source": [
    "train_data['Fare'].fillna(train_data['Fare'].mean(), inplace = True)\n",
    "print(train_data['Fare'])\n",
    "test_data['Fare'].fillna(test_data['Fare'].mean(), inplace = True)\n",
    "print(test_data['Fare'])"
   ]
  },
  {
   "cell_type": "markdown",
   "id": "inside-catering",
   "metadata": {
    "papermill": {
     "duration": 0.013511,
     "end_time": "2021-06-12T21:00:13.209423",
     "exception": false,
     "start_time": "2021-06-12T21:00:13.195912",
     "status": "completed"
    },
    "tags": []
   },
   "source": [
    "Same thing happend here as there was a NAN value in the Fare column. so it will be changed in the train and test."
   ]
  },
  {
   "cell_type": "code",
   "execution_count": 9,
   "id": "composite-handle",
   "metadata": {
    "execution": {
     "iopub.execute_input": "2021-06-12T21:00:13.245492Z",
     "iopub.status.busy": "2021-06-12T21:00:13.244932Z",
     "iopub.status.idle": "2021-06-12T21:00:13.249022Z",
     "shell.execute_reply": "2021-06-12T21:00:13.248548Z",
     "shell.execute_reply.started": "2021-06-12T20:55:58.157697Z"
    },
    "papermill": {
     "duration": 0.02587,
     "end_time": "2021-06-12T21:00:13.249148",
     "exception": false,
     "start_time": "2021-06-12T21:00:13.223278",
     "status": "completed"
    },
    "tags": []
   },
   "outputs": [
    {
     "name": "stdout",
     "output_type": "stream",
     "text": [
      "0      S\n",
      "1      C\n",
      "2      S\n",
      "3      S\n",
      "4      S\n",
      "      ..\n",
      "886    S\n",
      "887    S\n",
      "888    S\n",
      "889    C\n",
      "890    Q\n",
      "Name: Embarked, Length: 891, dtype: object\n",
      "0      Q\n",
      "1      S\n",
      "2      Q\n",
      "3      S\n",
      "4      S\n",
      "      ..\n",
      "413    S\n",
      "414    C\n",
      "415    S\n",
      "416    S\n",
      "417    C\n",
      "Name: Embarked, Length: 418, dtype: object\n"
     ]
    }
   ],
   "source": [
    "train_data['Embarked'].fillna(\"unavailable\",inplace = True)\n",
    "print(train_data['Embarked'])\n",
    "test_data['Embarked'].fillna(\"unavailable\",inplace = True)\n",
    "print(test_data['Embarked'])"
   ]
  },
  {
   "cell_type": "markdown",
   "id": "private-scope",
   "metadata": {
    "papermill": {
     "duration": 0.013543,
     "end_time": "2021-06-12T21:00:13.277035",
     "exception": false,
     "start_time": "2021-06-12T21:00:13.263492",
     "status": "completed"
    },
    "tags": []
   },
   "source": []
  },
  {
   "cell_type": "markdown",
   "id": "taken-destination",
   "metadata": {
    "papermill": {
     "duration": 0.013319,
     "end_time": "2021-06-12T21:00:13.304126",
     "exception": false,
     "start_time": "2021-06-12T21:00:13.290807",
     "status": "completed"
    },
    "tags": []
   },
   "source": [
    "Here there where empty cells that contained no values. Conlusion: i replaced them with unavailable using the method fillna."
   ]
  },
  {
   "cell_type": "code",
   "execution_count": 10,
   "id": "rubber-mercury",
   "metadata": {
    "execution": {
     "iopub.execute_input": "2021-06-12T21:00:13.339880Z",
     "iopub.status.busy": "2021-06-12T21:00:13.338636Z",
     "iopub.status.idle": "2021-06-12T21:00:13.369727Z",
     "shell.execute_reply": "2021-06-12T21:00:13.370113Z",
     "shell.execute_reply.started": "2021-06-12T20:55:58.1769Z"
    },
    "papermill": {
     "duration": 0.052391,
     "end_time": "2021-06-12T21:00:13.370286",
     "exception": false,
     "start_time": "2021-06-12T21:00:13.317895",
     "status": "completed"
    },
    "tags": []
   },
   "outputs": [
    {
     "name": "stdout",
     "output_type": "stream",
     "text": [
      "<class 'pandas.core.frame.DataFrame'>\n",
      "RangeIndex: 891 entries, 0 to 890\n",
      "Data columns (total 2 columns):\n",
      " #   Column    Non-Null Count  Dtype\n",
      "---  ------    --------------  -----\n",
      " 0   Embarked  891 non-null    int64\n",
      " 1   Sex       891 non-null    int64\n",
      "dtypes: int64(2)\n",
      "memory usage: 14.0 KB\n",
      "     Survived  Pclass  Sex        Age  SibSp  Parch     Fare  Embarked\n",
      "0           0       3    1  22.000000      1      0   7.2500         2\n",
      "1           1       1    0  38.000000      1      0  71.2833         0\n",
      "2           1       3    0  26.000000      0      0   7.9250         2\n",
      "3           1       1    0  35.000000      1      0  53.1000         2\n",
      "4           0       3    1  35.000000      0      0   8.0500         2\n",
      "..        ...     ...  ...        ...    ...    ...      ...       ...\n",
      "886         0       2    1  27.000000      0      0  13.0000         2\n",
      "887         1       1    0  19.000000      0      0  30.0000         2\n",
      "888         0       3    0  29.699118      1      2  23.4500         2\n",
      "889         1       1    1  26.000000      0      0  30.0000         0\n",
      "890         0       3    1  32.000000      0      0   7.7500         1\n",
      "\n",
      "[891 rows x 8 columns]\n",
      "<class 'pandas.core.frame.DataFrame'>\n",
      "RangeIndex: 418 entries, 0 to 417\n",
      "Data columns (total 2 columns):\n",
      " #   Column    Non-Null Count  Dtype\n",
      "---  ------    --------------  -----\n",
      " 0   Embarked  418 non-null    int64\n",
      " 1   Sex       418 non-null    int64\n",
      "dtypes: int64(2)\n",
      "memory usage: 6.7 KB\n",
      "     PassengerId  Pclass  Sex       Age  SibSp  Parch      Fare  Embarked\n",
      "0            892       3    1  34.50000      0      0    7.8292         1\n",
      "1            893       3    0  47.00000      1      0    7.0000         2\n",
      "2            894       2    1  62.00000      0      0    9.6875         1\n",
      "3            895       3    1  27.00000      0      0    8.6625         2\n",
      "4            896       3    0  22.00000      1      1   12.2875         2\n",
      "..           ...     ...  ...       ...    ...    ...       ...       ...\n",
      "413         1305       3    1  30.27259      0      0    8.0500         2\n",
      "414         1306       1    0  39.00000      0      0  108.9000         0\n",
      "415         1307       3    1  38.50000      0      0    7.2500         2\n",
      "416         1308       3    1  30.27259      0      0    8.0500         2\n",
      "417         1309       3    1  30.27259      1      1   22.3583         0\n",
      "\n",
      "[418 rows x 8 columns]\n"
     ]
    }
   ],
   "source": [
    "from sklearn import preprocessing\n",
    "train_data['Embarked']= preprocessing.LabelEncoder().fit_transform(train_data['Embarked'])\n",
    "train_data['Sex']= preprocessing.LabelEncoder().fit_transform(train_data['Sex'])\n",
    "train_data[['Embarked','Sex']].info()\n",
    "print(train_data)\n",
    "\n",
    "test_data['Embarked']= preprocessing.LabelEncoder().fit_transform(test_data['Embarked'])\n",
    "test_data['Sex']= preprocessing.LabelEncoder().fit_transform(test_data['Sex'])\n",
    "test_data[['Embarked','Sex']].info()\n",
    "X=train_data[my_features]\n",
    "Y = train_data[\"Survived\"]\n",
    "print(test_data)"
   ]
  },
  {
   "cell_type": "markdown",
   "id": "following-advantage",
   "metadata": {
    "papermill": {
     "duration": 0.017571,
     "end_time": "2021-06-12T21:00:13.403063",
     "exception": false,
     "start_time": "2021-06-12T21:00:13.385492",
     "status": "completed"
    },
    "tags": []
   },
   "source": [
    "Here we used the LabelEncoder method to change the non-numerical labels to be numerical labels.Conclusion: (Embarked,Sex) which contain non-numerical data will be changed to numbers that are fixed. Example: male=1 and female=0.( Did them in both test and train)."
   ]
  },
  {
   "cell_type": "code",
   "execution_count": 11,
   "id": "brown-minority",
   "metadata": {
    "execution": {
     "iopub.execute_input": "2021-06-12T21:00:13.435004Z",
     "iopub.status.busy": "2021-06-12T21:00:13.434172Z",
     "iopub.status.idle": "2021-06-12T21:00:13.440966Z",
     "shell.execute_reply": "2021-06-12T21:00:13.441394Z",
     "shell.execute_reply.started": "2021-06-12T20:55:58.255423Z"
    },
    "papermill": {
     "duration": 0.024053,
     "end_time": "2021-06-12T21:00:13.441552",
     "exception": false,
     "start_time": "2021-06-12T21:00:13.417499",
     "status": "completed"
    },
    "tags": []
   },
   "outputs": [],
   "source": [
    "train_x,valid_x,train_y,valid_y=train_test_split(X, Y,test_size=0.2, random_state=42)"
   ]
  },
  {
   "cell_type": "markdown",
   "id": "aggressive-tragedy",
   "metadata": {
    "papermill": {
     "duration": 0.013998,
     "end_time": "2021-06-12T21:00:13.469893",
     "exception": false,
     "start_time": "2021-06-12T21:00:13.455895",
     "status": "completed"
    },
    "tags": []
   },
   "source": [
    "The train_test_split is a function in Sklearn model selection that splits data arrays into two subsets, the first is for training data and the second for testing data. We give it parameters X and Y and the test_size and random state. It will return four things (train_x : The training part of the first sequence, valid_x : The test part of the first sequence, train_y : The training part of the second sequence,valid_y : The test part of the second sequence )"
   ]
  },
  {
   "cell_type": "code",
   "execution_count": 12,
   "id": "after-knitting",
   "metadata": {
    "execution": {
     "iopub.execute_input": "2021-06-12T21:00:13.501881Z",
     "iopub.status.busy": "2021-06-12T21:00:13.501048Z",
     "iopub.status.idle": "2021-06-12T21:00:13.675640Z",
     "shell.execute_reply": "2021-06-12T21:00:13.676052Z",
     "shell.execute_reply.started": "2021-06-12T20:55:58.27081Z"
    },
    "papermill": {
     "duration": 0.191964,
     "end_time": "2021-06-12T21:00:13.676220",
     "exception": false,
     "start_time": "2021-06-12T21:00:13.484256",
     "status": "completed"
    },
    "tags": []
   },
   "outputs": [
    {
     "name": "stdout",
     "output_type": "stream",
     "text": [
      "0.8156424581005587\n"
     ]
    }
   ],
   "source": [
    "#training\n",
    "#validation\n",
    "#predection\n",
    "tit_model = RandomForestClassifier(n_estimators=100, max_depth=5, random_state=42)\n",
    "tit_model.fit(train_x,train_y)\n",
    "titanic_score=tit_model.score(valid_x,valid_y)\n",
    "print(titanic_score)\n",
    "all_predictions = tit_model.predict(test_data[my_features])\n",
    "mypred_output = pd.DataFrame({'PassengerId': test_data.PassengerId, 'Survived': all_predictions})\n",
    "mypred_output.to_csv('final_conclusion.csv', index=False)"
   ]
  },
  {
   "cell_type": "markdown",
   "id": "difficult-principal",
   "metadata": {
    "papermill": {
     "duration": 0.014195,
     "end_time": "2021-06-12T21:00:13.704880",
     "exception": false,
     "start_time": "2021-06-12T21:00:13.690685",
     "status": "completed"
    },
    "tags": []
   },
   "source": [
    "The last phase is the prediction phase, i used the random forest classifier as my model and i calculated the score which is the accuracy. And at the end using predict method, my output was the final_conclusion.csv which contained the passenger id and if he/she survived or not."
   ]
  }
 ],
 "metadata": {
  "kernelspec": {
   "display_name": "Python 3",
   "language": "python",
   "name": "python3"
  },
  "language_info": {
   "codemirror_mode": {
    "name": "ipython",
    "version": 3
   },
   "file_extension": ".py",
   "mimetype": "text/x-python",
   "name": "python",
   "nbconvert_exporter": "python",
   "pygments_lexer": "ipython3",
   "version": "3.7.10"
  },
  "papermill": {
   "default_parameters": {},
   "duration": 9.698205,
   "end_time": "2021-06-12T21:00:15.264471",
   "environment_variables": {},
   "exception": null,
   "input_path": "__notebook__.ipynb",
   "output_path": "__notebook__.ipynb",
   "parameters": {},
   "start_time": "2021-06-12T21:00:05.566266",
   "version": "2.3.3"
  }
 },
 "nbformat": 4,
 "nbformat_minor": 5
}
